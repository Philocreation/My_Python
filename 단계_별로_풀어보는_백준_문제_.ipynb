{
  "nbformat": 4,
  "nbformat_minor": 0,
  "metadata": {
    "colab": {
      "name": "단계 별로 풀어보는 백준 문제 .ipynb",
      "provenance": [],
      "collapsed_sections": [],
      "authorship_tag": "ABX9TyM72892NTs9EHOiB43WqZTh",
      "include_colab_link": true
    },
    "kernelspec": {
      "name": "python3",
      "display_name": "Python 3"
    },
    "language_info": {
      "name": "python"
    }
  },
  "cells": [
    {
      "cell_type": "markdown",
      "metadata": {
        "id": "view-in-github",
        "colab_type": "text"
      },
      "source": [
        "<a href=\"https://colab.research.google.com/github/Philocreation/My_Python/blob/main/%EB%8B%A8%EA%B3%84_%EB%B3%84%EB%A1%9C_%ED%92%80%EC%96%B4%EB%B3%B4%EB%8A%94_%EB%B0%B1%EC%A4%80_%EB%AC%B8%EC%A0%9C_.ipynb\" target=\"_parent\"><img src=\"https://colab.research.google.com/assets/colab-badge.svg\" alt=\"Open In Colab\"/></a>"
      ]
    },
    {
      "cell_type": "markdown",
      "source": [
        "# 1. 입출력과 사칙연산 "
      ],
      "metadata": {
        "id": "wVyHZoOmwmkz"
      }
    },
    {
      "cell_type": "markdown",
      "source": [
        "## (1) Hello World (2557번)"
      ],
      "metadata": {
        "id": "G3s12R5DwrJm"
      }
    },
    {
      "cell_type": "code",
      "execution_count": null,
      "metadata": {
        "colab": {
          "base_uri": "https://localhost:8080/"
        },
        "id": "GKY1719NwXIu",
        "outputId": "deddaa86-057a-4864-b619-5e87d0d4c920"
      },
      "outputs": [
        {
          "output_type": "stream",
          "name": "stdout",
          "text": [
            "Hello World!\n"
          ]
        }
      ],
      "source": [
        "print(\"Hello World!\")"
      ]
    },
    {
      "cell_type": "markdown",
      "source": [
        "## (2) We love kriii(10718번)"
      ],
      "metadata": {
        "id": "CpgoQTw7w_An"
      }
    },
    {
      "cell_type": "code",
      "source": [
        "for i in range(1,3,1):\n",
        "  print(\"강한친구 대한육군\")"
      ],
      "metadata": {
        "colab": {
          "base_uri": "https://localhost:8080/"
        },
        "id": "ByQHWYvQw3io",
        "outputId": "c68d0c9a-4180-407e-a80f-1a1e17db71cd"
      },
      "execution_count": null,
      "outputs": [
        {
          "output_type": "stream",
          "name": "stdout",
          "text": [
            "강한친구 대한육군\n",
            "강한친구 대한육군\n"
          ]
        }
      ]
    },
    {
      "cell_type": "markdown",
      "source": [
        "## (3) 고양이(10171번)"
      ],
      "metadata": {
        "id": "sEUdFGqQyzXs"
      }
    },
    {
      "cell_type": "code",
      "source": [
        "print(r\"\\     /\\ \")\n",
        "print(\")  ( ')\")\n",
        "print(\"(  /  )\")\n",
        "print(r\" \\(__)|\")"
      ],
      "metadata": {
        "colab": {
          "base_uri": "https://localhost:8080/"
        },
        "id": "oanFXGETxYD6",
        "outputId": "b6014983-520c-4e15-a4c8-c53fd8117928"
      },
      "execution_count": null,
      "outputs": [
        {
          "output_type": "stream",
          "name": "stdout",
          "text": [
            "\\     /\\ \n",
            ")  ( ')\n",
            "(  /  )\n",
            " \\(__)|\n"
          ]
        }
      ]
    },
    {
      "cell_type": "markdown",
      "source": [
        "## (4) 개(10172번)"
      ],
      "metadata": {
        "id": "ZwjpBgrV0nj4"
      }
    },
    {
      "cell_type": "code",
      "source": [
        "print( \"|\\_/|\")\n",
        "print( \"|q p|   /}\")\n",
        "print( '( 0 )\"\"\"＼')\n",
        "print( '|\"^\"`    |' )\n",
        "print( \"||_/=\\\\__|\" )"
      ],
      "metadata": {
        "colab": {
          "base_uri": "https://localhost:8080/"
        },
        "id": "Gy3pHCjKzYt-",
        "outputId": "8799bb5b-acfe-448a-af40-7cf93856cd4a"
      },
      "execution_count": null,
      "outputs": [
        {
          "output_type": "stream",
          "name": "stdout",
          "text": [
            "|\\_/|\n",
            "|q p|   /}\n",
            "( 0 )\"\"\"＼\n",
            "|\"^\"`    |\n",
            "||_/=\\__|\n"
          ]
        }
      ]
    },
    {
      "cell_type": "markdown",
      "source": [
        "## (5) A+B (1000번)"
      ],
      "metadata": {
        "id": "s_wqlwqq2pRa"
      }
    },
    {
      "cell_type": "code",
      "source": [
        "A = int(input())\n",
        "B = int(input())\n",
        "\n",
        "print(A+B)"
      ],
      "metadata": {
        "colab": {
          "base_uri": "https://localhost:8080/"
        },
        "id": "ZnJyCEgX1Er-",
        "outputId": "65c5305f-6c21-40b2-9205-13e23fe42afc"
      },
      "execution_count": null,
      "outputs": [
        {
          "output_type": "stream",
          "name": "stdout",
          "text": [
            "1\n",
            "2\n",
            "3\n"
          ]
        }
      ]
    },
    {
      "cell_type": "markdown",
      "source": [
        "## (6) A-B(1001번)"
      ],
      "metadata": {
        "id": "1KJpaYIx3dvn"
      }
    },
    {
      "cell_type": "code",
      "source": [
        "A = int(input())\n",
        "B = int(input())\n",
        "\n",
        "print(A-B)"
      ],
      "metadata": {
        "id": "PUmf-w_P3CmR"
      },
      "execution_count": null,
      "outputs": []
    },
    {
      "cell_type": "markdown",
      "source": [
        "## (7) A*B(10998번)"
      ],
      "metadata": {
        "id": "Pk5zxhfq35hf"
      }
    },
    {
      "cell_type": "code",
      "source": [
        "A = int(input())\n",
        "B = int(input())\n",
        "\n",
        "print(A*B)"
      ],
      "metadata": {
        "colab": {
          "base_uri": "https://localhost:8080/"
        },
        "id": "YvI5gskf4Bpk",
        "outputId": "1476336a-2d28-4fde-c9ba-dc1cfb406dd4"
      },
      "execution_count": null,
      "outputs": [
        {
          "output_type": "stream",
          "name": "stdout",
          "text": [
            "1\n",
            "2\n",
            "2\n"
          ]
        }
      ]
    },
    {
      "cell_type": "markdown",
      "source": [
        "## (8) A/B(1008번)"
      ],
      "metadata": {
        "id": "dCy97XLS38Pt"
      }
    },
    {
      "cell_type": "code",
      "source": [
        "A = int(input())\n",
        "B = int(input())\n",
        "\n",
        "print(A/B)"
      ],
      "metadata": {
        "colab": {
          "base_uri": "https://localhost:8080/"
        },
        "id": "h2YSH5cz4Cvo",
        "outputId": "4bae6b09-3585-4623-aa07-4aa6ed9acaa7"
      },
      "execution_count": null,
      "outputs": [
        {
          "output_type": "stream",
          "name": "stdout",
          "text": [
            "1\n",
            "3\n",
            "0.3333333333333333\n"
          ]
        }
      ]
    },
    {
      "cell_type": "markdown",
      "source": [
        "## (9) 사칙연산(10869번)"
      ],
      "metadata": {
        "id": "-8oBaRc138Ng"
      }
    },
    {
      "cell_type": "code",
      "source": [
        "A = 7\n",
        "B = 3\n",
        "\n",
        "print(A+B)\n",
        "print(A-B)\n",
        "print(A*B)\n",
        "print(A/B)\n",
        "print(A%B)"
      ],
      "metadata": {
        "colab": {
          "base_uri": "https://localhost:8080/"
        },
        "id": "4y90edpm312O",
        "outputId": "b2c582b6-fbe5-4a21-aa4f-6a307cb631ff"
      },
      "execution_count": null,
      "outputs": [
        {
          "output_type": "stream",
          "name": "stdout",
          "text": [
            "10\n",
            "4\n",
            "21\n",
            "2.3333333333333335\n",
            "1\n"
          ]
        }
      ]
    },
    {
      "cell_type": "markdown",
      "source": [
        "## (10) 나머지(10430번)"
      ],
      "metadata": {
        "id": "yNOQWXGQ4Sdz"
      }
    },
    {
      "cell_type": "code",
      "source": [
        "A = 5\n",
        "B = 8\n",
        "C = 4\n",
        "\n",
        "calculate_1 = (A+B)%C\n",
        "calculate_2 = ((A%C) + (B%C))%C\n",
        "calculate_3 = (A*B)%C\n",
        "calculate_4 = ((A%C) * (B%C))%C\n",
        "\n",
        "print(calculate_1,calculate_2,calculate_3,calculate_4, sep='\\n')"
      ],
      "metadata": {
        "colab": {
          "base_uri": "https://localhost:8080/"
        },
        "id": "IEuR5WDO4ViH",
        "outputId": "08f1b25d-2e23-4c83-fddd-4e9d64d0b114"
      },
      "execution_count": null,
      "outputs": [
        {
          "output_type": "stream",
          "name": "stdout",
          "text": [
            "1\n",
            "1\n",
            "0\n",
            "0\n"
          ]
        }
      ]
    },
    {
      "cell_type": "markdown",
      "source": [
        "## (11) 곱셈(2588번) "
      ],
      "metadata": {
        "id": "_KRdWNK74WLO"
      }
    },
    {
      "cell_type": "code",
      "source": [
        "a = 472\n",
        "b = 385\n",
        "\n",
        "print(a*(b%10))\n",
        "\n",
        "b_str = str(b%100-b%10)\n",
        "b_str2 = int(b_str[0])\n",
        "print(a*b_str2)\n",
        "\n",
        "b_str3 = str(b-(b%100))\n",
        "b_str4 = int(b_str3[0])\n",
        "print(a*b_str4)\n",
        "print(a*b)"
      ],
      "metadata": {
        "colab": {
          "base_uri": "https://localhost:8080/"
        },
        "id": "L6p-VoJG4cNZ",
        "outputId": "2f19f987-5c29-4b14-b43d-6d7f6d371079"
      },
      "execution_count": 3,
      "outputs": [
        {
          "output_type": "stream",
          "name": "stdout",
          "text": [
            "2360\n",
            "3776\n",
            "1416\n",
            "181720\n"
          ]
        }
      ]
    },
    {
      "cell_type": "markdown",
      "source": [
        "# if문"
      ],
      "metadata": {
        "id": "A4D2aajgb9bC"
      }
    },
    {
      "cell_type": "markdown",
      "source": [
        "## (1) 두 수 비교하기(1330번)"
      ],
      "metadata": {
        "id": "9J_R8tOBb_vx"
      }
    },
    {
      "cell_type": "code",
      "source": [
        "def creation(A,B):\n",
        "  if A>B:\n",
        "    print('>')\n",
        "  elif A<B:\n",
        "    print('<')\n",
        "  elif A==B:\n",
        "    print('==')\n",
        "\n",
        "creation(1,2)\n",
        "creation(10,2)\n",
        "creation(5,5)"
      ],
      "metadata": {
        "id": "H0Ip8sEMceRU",
        "outputId": "1d71defe-f2af-429e-bab0-a81b03003ae4",
        "colab": {
          "base_uri": "https://localhost:8080/"
        }
      },
      "execution_count": 11,
      "outputs": [
        {
          "output_type": "stream",
          "name": "stdout",
          "text": [
            "<\n",
            ">\n",
            "==\n"
          ]
        }
      ]
    },
    {
      "cell_type": "markdown",
      "source": [
        "## (2) 시험 성적(9498번)"
      ],
      "metadata": {
        "id": "4wjxWWgacFui"
      }
    },
    {
      "cell_type": "code",
      "source": [
        "def func(i):\n",
        "  if 90<= i <=100:\n",
        "    print(\"A\")\n",
        "  elif 80<= i <=89:\n",
        "    print(\"B\")\n",
        "  elif 70<= i <=79:\n",
        "    print(\"C\")\n",
        "  elif 60<= i <=69:  \n",
        "    print(\"D\")\n",
        "  else :\n",
        "    print(\"F\")\n",
        "\n",
        "func(100)    "
      ],
      "metadata": {
        "id": "0luXthYDcels",
        "outputId": "81b858a2-f514-47c2-f3d5-19e6cde582e8",
        "colab": {
          "base_uri": "https://localhost:8080/"
        }
      },
      "execution_count": 12,
      "outputs": [
        {
          "output_type": "stream",
          "name": "stdout",
          "text": [
            "A\n"
          ]
        }
      ]
    },
    {
      "cell_type": "markdown",
      "source": [
        "## (3) 윤년 (2753번))"
      ],
      "metadata": {
        "id": "0uNF9hrncFgT"
      }
    },
    {
      "cell_type": "code",
      "source": [
        "def Moon(i):\n",
        "  if i%4==0 | i%100==0:\n",
        "    print(\"윤년입니다.\")\n",
        "  else :\n",
        "    print(\"윤년이 아닙니다.\")\n",
        "\n",
        "Moon(2000)\n",
        "Moon(1999)"
      ],
      "metadata": {
        "id": "0ydtxUvzce7j",
        "outputId": "9bc3fd77-5da9-493e-dbc4-4099088d3a10",
        "colab": {
          "base_uri": "https://localhost:8080/"
        }
      },
      "execution_count": 18,
      "outputs": [
        {
          "output_type": "stream",
          "name": "stdout",
          "text": [
            "윤년입니다.\n",
            "윤년이 아닙니다.\n"
          ]
        }
      ]
    },
    {
      "cell_type": "markdown",
      "source": [
        "## (4) 사분면 고르기(14681번)"
      ],
      "metadata": {
        "id": "TIn369k7cFYM"
      }
    },
    {
      "cell_type": "code",
      "source": [
        "def square(x,y):\n",
        "  if x>0 | y>0:\n",
        "    print(\"제1사분면\")"
      ],
      "metadata": {
        "id": "4oHkuBH_cfVJ"
      },
      "execution_count": null,
      "outputs": []
    },
    {
      "cell_type": "markdown",
      "source": [
        "## (5) 알림 시계(2884번)"
      ],
      "metadata": {
        "id": "NEkoY-fKcFMa"
      }
    },
    {
      "cell_type": "code",
      "source": [
        "\n"
      ],
      "metadata": {
        "id": "OuaI09dr8nPk"
      },
      "execution_count": null,
      "outputs": []
    }
  ]
}